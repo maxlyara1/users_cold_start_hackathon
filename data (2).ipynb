{
 "cells": [
  {
   "cell_type": "code",
   "execution_count": 1,
   "metadata": {},
   "outputs": [
    {
     "name": "stdout",
     "output_type": "stream",
     "text": [
      "Collecting pyspark\n",
      "  Downloading pyspark-3.5.3.tar.gz (317.3 MB)\n",
      "\u001b[2K     \u001b[90m━━━━━━━━━━━━━━━━━━━━━━━━━━━━━━━━━━━━━━\u001b[0m \u001b[32m317.3/317.3 MB\u001b[0m \u001b[31m33.1 MB/s\u001b[0m eta \u001b[36m0:00:00\u001b[0m00:01\u001b[0m00:01\u001b[0m\n",
      "\u001b[?25h  Preparing metadata (setup.py) ... \u001b[?25ldone\n",
      "\u001b[?25hCollecting py4j==0.10.9.7 (from pyspark)\n",
      "  Downloading py4j-0.10.9.7-py2.py3-none-any.whl.metadata (1.5 kB)\n",
      "Downloading py4j-0.10.9.7-py2.py3-none-any.whl (200 kB)\n",
      "Building wheels for collected packages: pyspark\n",
      "  Building wheel for pyspark (setup.py) ... \u001b[?25ldone\n",
      "\u001b[?25h  Created wheel for pyspark: filename=pyspark-3.5.3-py2.py3-none-any.whl size=317840628 sha256=99eca8dd581b1b1df7fba221babde7cee45c3b08f95edd4280ebf0c684f81065\n",
      "  Stored in directory: /Users/maksimlyara/Library/Caches/pip/wheels/07/a0/a3/d24c94bf043ab5c7e38c30491199a2a11fef8d2584e6df7fb7\n",
      "Successfully built pyspark\n",
      "Installing collected packages: py4j, pyspark\n",
      "Successfully installed py4j-0.10.9.7 pyspark-3.5.3\n",
      "Requirement already satisfied: setuptools in /Users/maksimlyara/miniconda3/lib/python3.12/site-packages (72.1.0)\n"
     ]
    }
   ],
   "source": [
    "! pip install pyspark\n",
    "! pip install setuptools\n"
   ]
  },
  {
   "cell_type": "code",
   "execution_count": 2,
   "metadata": {},
   "outputs": [],
   "source": [
    "import pandas as pd\n",
    "from pyspark.sql import SparkSession\n"
   ]
  },
  {
   "cell_type": "code",
   "execution_count": 3,
   "metadata": {},
   "outputs": [
    {
     "data": {
      "text/html": [
       "<div>\n",
       "<style scoped>\n",
       "    .dataframe tbody tr th:only-of-type {\n",
       "        vertical-align: middle;\n",
       "    }\n",
       "\n",
       "    .dataframe tbody tr th {\n",
       "        vertical-align: top;\n",
       "    }\n",
       "\n",
       "    .dataframe thead th {\n",
       "        text-align: right;\n",
       "    }\n",
       "</style>\n",
       "<table border=\"1\" class=\"dataframe\">\n",
       "  <thead>\n",
       "    <tr style=\"text-align: right;\">\n",
       "      <th></th>\n",
       "      <th>event_timestamp</th>\n",
       "      <th>user_id</th>\n",
       "      <th>region</th>\n",
       "      <th>city</th>\n",
       "      <th>video_id</th>\n",
       "      <th>watchtime</th>\n",
       "    </tr>\n",
       "  </thead>\n",
       "  <tbody>\n",
       "    <tr>\n",
       "      <th>0</th>\n",
       "      <td>2024-08-05 12:12:32+03:00</td>\n",
       "      <td>bd1b6b07-e6a2-46ad-aa58-990bb7e89252</td>\n",
       "      <td>288eb079-1c29-4749-ab7e-550451a4d765</td>\n",
       "      <td>da903ff0-9eb8-4e91-b25d-22c70f962ca2</td>\n",
       "      <td>0af133e1-4fbf-4e10-b9e8-19fbe1a011c3</td>\n",
       "      <td>32</td>\n",
       "    </tr>\n",
       "    <tr>\n",
       "      <th>1</th>\n",
       "      <td>2024-08-05 18:30:15+03:00</td>\n",
       "      <td>7db026fc-b55c-4580-bc26-e3df59ba6c7c</td>\n",
       "      <td>f58ab76f-2581-447a-b95b-5832e8757054</td>\n",
       "      <td>8449a572-fd10-44ae-a899-af656e350ad9</td>\n",
       "      <td>4f42aab2-6238-4381-bb53-36213916e912</td>\n",
       "      <td>340</td>\n",
       "    </tr>\n",
       "    <tr>\n",
       "      <th>2</th>\n",
       "      <td>2024-08-05 12:35:16+03:00</td>\n",
       "      <td>5c94a654-f376-4529-b463-b62b6b50e8ca</td>\n",
       "      <td>2c1f4ce4-66e0-4481-a0ed-244bf76fa83a</td>\n",
       "      <td>93a12888-fdf4-4889-a1ef-3ef0537d674d</td>\n",
       "      <td>8b106b84-f3f5-4c27-820c-7e1546b43614</td>\n",
       "      <td>12</td>\n",
       "    </tr>\n",
       "  </tbody>\n",
       "</table>\n",
       "</div>"
      ],
      "text/plain": [
       "            event_timestamp                               user_id  \\\n",
       "0 2024-08-05 12:12:32+03:00  bd1b6b07-e6a2-46ad-aa58-990bb7e89252   \n",
       "1 2024-08-05 18:30:15+03:00  7db026fc-b55c-4580-bc26-e3df59ba6c7c   \n",
       "2 2024-08-05 12:35:16+03:00  5c94a654-f376-4529-b463-b62b6b50e8ca   \n",
       "\n",
       "                                 region                                  city  \\\n",
       "0  288eb079-1c29-4749-ab7e-550451a4d765  da903ff0-9eb8-4e91-b25d-22c70f962ca2   \n",
       "1  f58ab76f-2581-447a-b95b-5832e8757054  8449a572-fd10-44ae-a899-af656e350ad9   \n",
       "2  2c1f4ce4-66e0-4481-a0ed-244bf76fa83a  93a12888-fdf4-4889-a1ef-3ef0537d674d   \n",
       "\n",
       "                               video_id  watchtime  \n",
       "0  0af133e1-4fbf-4e10-b9e8-19fbe1a011c3         32  \n",
       "1  4f42aab2-6238-4381-bb53-36213916e912        340  \n",
       "2  8b106b84-f3f5-4c27-820c-7e1546b43614         12  "
      ]
     },
     "execution_count": 3,
     "metadata": {},
     "output_type": "execute_result"
    }
   ],
   "source": [
    "df_logs_5 = pd.read_parquet('logs_df_2024-08-05.parquet', engine='pyarrow')\n",
    "df_logs_5.head(3)"
   ]
  },
  {
   "cell_type": "code",
   "execution_count": 4,
   "metadata": {},
   "outputs": [
    {
     "data": {
      "text/html": [
       "<div>\n",
       "<style scoped>\n",
       "    .dataframe tbody tr th:only-of-type {\n",
       "        vertical-align: middle;\n",
       "    }\n",
       "\n",
       "    .dataframe tbody tr th {\n",
       "        vertical-align: top;\n",
       "    }\n",
       "\n",
       "    .dataframe thead th {\n",
       "        text-align: right;\n",
       "    }\n",
       "</style>\n",
       "<table border=\"1\" class=\"dataframe\">\n",
       "  <thead>\n",
       "    <tr style=\"text-align: right;\">\n",
       "      <th></th>\n",
       "      <th>video_id</th>\n",
       "      <th>v_pub_datetime</th>\n",
       "      <th>v_total_comments</th>\n",
       "      <th>v_year_views</th>\n",
       "      <th>v_month_views</th>\n",
       "      <th>v_week_views</th>\n",
       "      <th>v_day_views</th>\n",
       "      <th>v_likes</th>\n",
       "      <th>v_dislikes</th>\n",
       "      <th>v_duration</th>\n",
       "      <th>...</th>\n",
       "      <th>v_category_popularity_percent_7_days</th>\n",
       "      <th>v_category_popularity_percent_30_days</th>\n",
       "      <th>v_long_views_1_days</th>\n",
       "      <th>v_long_views_7_days</th>\n",
       "      <th>v_long_views_30_days</th>\n",
       "      <th>row_number</th>\n",
       "      <th>title</th>\n",
       "      <th>description</th>\n",
       "      <th>category_id</th>\n",
       "      <th>author_id</th>\n",
       "    </tr>\n",
       "  </thead>\n",
       "  <tbody>\n",
       "    <tr>\n",
       "      <th>0</th>\n",
       "      <td>973f24c0-15b2-434f-8740-4e2726f79c30</td>\n",
       "      <td>2024-06-15 22:58:03+03:00</td>\n",
       "      <td>0</td>\n",
       "      <td>556</td>\n",
       "      <td>2</td>\n",
       "      <td>0</td>\n",
       "      <td>0</td>\n",
       "      <td>0</td>\n",
       "      <td>0</td>\n",
       "      <td>7.733</td>\n",
       "      <td>...</td>\n",
       "      <td>1.656386</td>\n",
       "      <td>1.616750</td>\n",
       "      <td>0</td>\n",
       "      <td>0</td>\n",
       "      <td>0</td>\n",
       "      <td>1</td>\n",
       "      <td>пережила свой яд</td>\n",
       "      <td></td>\n",
       "      <td>Мультфильмы</td>\n",
       "      <td>79276150-fdaf-4626-9452-6f1ad975741d</td>\n",
       "    </tr>\n",
       "    <tr>\n",
       "      <th>1</th>\n",
       "      <td>1a3f527c-44b2-4f7e-9641-26f078edbf2e</td>\n",
       "      <td>2021-04-18 17:27:42+03:00</td>\n",
       "      <td>0</td>\n",
       "      <td>109</td>\n",
       "      <td>2</td>\n",
       "      <td>1</td>\n",
       "      <td>0</td>\n",
       "      <td>0</td>\n",
       "      <td>0</td>\n",
       "      <td>379.000</td>\n",
       "      <td>...</td>\n",
       "      <td>5.570802</td>\n",
       "      <td>5.649635</td>\n",
       "      <td>0</td>\n",
       "      <td>0</td>\n",
       "      <td>0</td>\n",
       "      <td>1</td>\n",
       "      <td>🎓Знаете ли Вы, что  ؟    Интересные факты ! # ...</td>\n",
       "      <td>🎓Знаете ли Вы, что  ?  Интересные факты ! # 2🎓...</td>\n",
       "      <td>Развлечения</td>\n",
       "      <td>16278647-5912-48af-a071-582dcfd0e354</td>\n",
       "    </tr>\n",
       "    <tr>\n",
       "      <th>2</th>\n",
       "      <td>2f563d09-45ef-4e27-8da0-daa74235a2e7</td>\n",
       "      <td>2022-11-17 16:36:43+03:00</td>\n",
       "      <td>0</td>\n",
       "      <td>163</td>\n",
       "      <td>2</td>\n",
       "      <td>2</td>\n",
       "      <td>0</td>\n",
       "      <td>0</td>\n",
       "      <td>0</td>\n",
       "      <td>1020.767</td>\n",
       "      <td>...</td>\n",
       "      <td>0.342614</td>\n",
       "      <td>0.285310</td>\n",
       "      <td>0</td>\n",
       "      <td>0</td>\n",
       "      <td>0</td>\n",
       "      <td>1</td>\n",
       "      <td>ЗИМНЯЯ, ТЕПЛАЯ ШЛЯПА крючком. Как связать поля...</td>\n",
       "      <td>Шляпа связана из пряжи NAKO Sport Wool в 100гр...</td>\n",
       "      <td>Хобби</td>\n",
       "      <td>9afa94aa-c2a6-43fc-a0d1-175eaf7fa194</td>\n",
       "    </tr>\n",
       "  </tbody>\n",
       "</table>\n",
       "<p>3 rows × 43 columns</p>\n",
       "</div>"
      ],
      "text/plain": [
       "                               video_id            v_pub_datetime  \\\n",
       "0  973f24c0-15b2-434f-8740-4e2726f79c30 2024-06-15 22:58:03+03:00   \n",
       "1  1a3f527c-44b2-4f7e-9641-26f078edbf2e 2021-04-18 17:27:42+03:00   \n",
       "2  2f563d09-45ef-4e27-8da0-daa74235a2e7 2022-11-17 16:36:43+03:00   \n",
       "\n",
       "   v_total_comments  v_year_views  v_month_views  v_week_views  v_day_views  \\\n",
       "0                 0           556              2             0            0   \n",
       "1                 0           109              2             1            0   \n",
       "2                 0           163              2             2            0   \n",
       "\n",
       "   v_likes  v_dislikes  v_duration  ...  v_category_popularity_percent_7_days  \\\n",
       "0        0           0       7.733  ...                              1.656386   \n",
       "1        0           0     379.000  ...                              5.570802   \n",
       "2        0           0    1020.767  ...                              0.342614   \n",
       "\n",
       "   v_category_popularity_percent_30_days  v_long_views_1_days  \\\n",
       "0                               1.616750                    0   \n",
       "1                               5.649635                    0   \n",
       "2                               0.285310                    0   \n",
       "\n",
       "   v_long_views_7_days  v_long_views_30_days  row_number  \\\n",
       "0                    0                     0           1   \n",
       "1                    0                     0           1   \n",
       "2                    0                     0           1   \n",
       "\n",
       "                                               title  \\\n",
       "0                                   пережила свой яд   \n",
       "1  🎓Знаете ли Вы, что  ؟    Интересные факты ! # ...   \n",
       "2  ЗИМНЯЯ, ТЕПЛАЯ ШЛЯПА крючком. Как связать поля...   \n",
       "\n",
       "                                         description  category_id  \\\n",
       "0                                                     Мультфильмы   \n",
       "1  🎓Знаете ли Вы, что  ?  Интересные факты ! # 2🎓...  Развлечения   \n",
       "2  Шляпа связана из пряжи NAKO Sport Wool в 100гр...        Хобби   \n",
       "\n",
       "                              author_id  \n",
       "0  79276150-fdaf-4626-9452-6f1ad975741d  \n",
       "1  16278647-5912-48af-a071-582dcfd0e354  \n",
       "2  9afa94aa-c2a6-43fc-a0d1-175eaf7fa194  \n",
       "\n",
       "[3 rows x 43 columns]"
      ]
     },
     "execution_count": 4,
     "metadata": {},
     "output_type": "execute_result"
    }
   ],
   "source": [
    "df_video = pd.read_parquet('video_stat.parquet', engine= 'pyarrow')\n",
    "df_video.head(3)"
   ]
  },
  {
   "cell_type": "code",
   "execution_count": 5,
   "metadata": {},
   "outputs": [
    {
     "data": {
      "text/plain": [
       "array(['Мультфильмы', 'Развлечения', 'Хобби', 'Животные', 'Разное',\n",
       "       'Лайфстайл', 'Телепередачи', 'Спорт', 'Недвижимость', 'Сериалы',\n",
       "       'Детям', 'Музыка', 'Юмор', 'Авто-мото', 'Сад и огород', 'Фильмы',\n",
       "       'Видеоигры', 'Наука', 'Путешествия', 'Технологии и интернет',\n",
       "       'Лайфхаки', 'Культура', 'Обзоры и распаковки товаров', 'Обучение',\n",
       "       'Здоровье', 'Охота и рыбалка', 'Строительство и ремонт', 'Аниме',\n",
       "       'Эзотерика', 'Еда', 'UNKNOWN', 'Интервью',\n",
       "       'Бизнес и предпринимательство', 'Техника и оборудование',\n",
       "       'Психология', 'Красота', 'Природа', 'Дизайн', 'Аудиокниги',\n",
       "       'Аудио'], dtype=object)"
      ]
     },
     "execution_count": 5,
     "metadata": {},
     "output_type": "execute_result"
    }
   ],
   "source": [
    "df_video['category_id'].unique()\n"
   ]
  },
  {
   "cell_type": "code",
   "execution_count": 6,
   "metadata": {},
   "outputs": [
    {
     "name": "stdout",
     "output_type": "stream",
     "text": [
      "+--------------------+------------------+\n",
      "|         category_id|    avg(watchtime)|\n",
      "+--------------------+------------------+\n",
      "|               Детям|401.50759409595025|\n",
      "|            Культура|2629.7981086676737|\n",
      "|           Лайфстайл| 165.7867915394168|\n",
      "|         Мультфильмы| 514.7748540913898|\n",
      "|              Музыка|  415.812855224911|\n",
      "|               Аудио| 661.9897807965422|\n",
      "|            Животные| 73.40577332675622|\n",
      "|                Юмор| 300.3663552818508|\n",
      "|              Фильмы| 1927.277600445502|\n",
      "|        Сад и огород|134.32996525164535|\n",
      "|               Хобби|121.81678718911748|\n",
      "|         Путешествия| 223.7675925243291|\n",
      "|            Лайфхаки| 209.3924483629181|\n",
      "|           Авто-мото| 247.4899499639104|\n",
      "|               Аниме| 575.6136564025228|\n",
      "|Обзоры и распаков...| 72.07416529180662|\n",
      "|                 Еда| 71.22446479986871|\n",
      "|Бизнес и предприн...|131.55275324459924|\n",
      "|               Наука|257.57630928684193|\n",
      "|           Эзотерика|207.22435100338606|\n",
      "+--------------------+------------------+\n",
      "only showing top 20 rows\n",
      "\n"
     ]
    }
   ],
   "source": [
    "\n",
    "# Создаем SparkSession\n",
    "spark = SparkSession.builder \\\n",
    "    .appName('VideoDataProcessing') \\\n",
    "    .getOrCreate()\n",
    "\n",
    "# Загружаем parquet-файлы в PySpark DataFrame\n",
    "df_video = spark.read.parquet('video_stat.parquet')\n",
    "df_logs_5 = spark.read.parquet('logs_df_2024-08-05.parquet')\n",
    "\n",
    "# Объединение данных по 'video_id'\n",
    "df_video_add_watchtime = df_video.join(df_logs_5.select('video_id', 'watchtime'), on='video_id', how='left')\n",
    "\n",
    "# (Необязательно) Если нужно вывести результат в pandas DataFrame для дальнейшей обработки:\n",
    "# Пример простой агрегации и анализа данных в PySpark\n",
    "df_video_add_watchtime.groupBy('category_id').agg({'watchtime': 'avg'}).show()\n"
   ]
  },
  {
   "cell_type": "code",
   "execution_count": 7,
   "metadata": {},
   "outputs": [
    {
     "data": {
      "text/plain": [
       "DataFrame[video_id: string, v_pub_datetime: timestamp, v_total_comments: decimal(20,0), v_year_views: decimal(20,0), v_month_views: decimal(20,0), v_week_views: decimal(20,0), v_day_views: decimal(20,0), v_likes: decimal(20,0), v_dislikes: decimal(20,0), v_duration: double, v_cr_click_like_7_days: double, v_cr_click_dislike_7_days: double, v_cr_click_vtop_7_days: double, v_cr_click_long_view_7_days: double, v_cr_click_comment_7_days: double, v_cr_click_like_30_days: double, v_cr_click_dislike_30_days: double, v_cr_click_vtop_30_days: double, v_cr_click_long_view_30_days: double, v_cr_click_comment_30_days: double, v_cr_click_like_1_days: double, v_cr_click_dislike_1_days: double, v_cr_click_vtop_1_days: double, v_cr_click_long_view_1_days: double, v_cr_click_comment_1_days: double, v_is_hidden: smallint, v_is_deleted: smallint, v_avg_watchtime_1_day: double, v_avg_watchtime_7_day: double, v_avg_watchtime_30_day: double, v_frac_avg_watchtime_1_day_duration: double, v_frac_avg_watchtime_7_day_duration: double, v_frac_avg_watchtime_30_day_duration: double, v_category_popularity_percent_7_days: double, v_category_popularity_percent_30_days: double, v_long_views_1_days: decimal(20,0), v_long_views_7_days: decimal(20,0), v_long_views_30_days: decimal(20,0), row_number: decimal(20,0), title: string, description: string, category_id: string, author_id: string, __index_level_0__: bigint, watchtime: bigint]"
      ]
     },
     "execution_count": 7,
     "metadata": {},
     "output_type": "execute_result"
    }
   ],
   "source": [
    "df_video_add_watchtime"
   ]
  },
  {
   "cell_type": "code",
   "execution_count": null,
   "metadata": {},
   "outputs": [],
   "source": []
  },
  {
   "cell_type": "code",
   "execution_count": null,
   "metadata": {},
   "outputs": [],
   "source": []
  }
 ],
 "metadata": {
  "kernelspec": {
   "display_name": "Python 3",
   "language": "python",
   "name": "python3"
  },
  "language_info": {
   "codemirror_mode": {
    "name": "ipython",
    "version": 3
   },
   "file_extension": ".py",
   "mimetype": "text/x-python",
   "name": "python",
   "nbconvert_exporter": "python",
   "pygments_lexer": "ipython3",
   "version": "3.12.2"
  }
 },
 "nbformat": 4,
 "nbformat_minor": 2
}
